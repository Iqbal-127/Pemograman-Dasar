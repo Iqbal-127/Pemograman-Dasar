{
  "nbformat": 4,
  "nbformat_minor": 0,
  "metadata": {
    "colab": {
      "provenance": [],
      "authorship_tag": "ABX9TyPzgNUALzJwQdSOSRZ0JMjx",
      "include_colab_link": true
    },
    "kernelspec": {
      "name": "python3",
      "display_name": "Python 3"
    },
    "language_info": {
      "name": "python"
    }
  },
  "cells": [
    {
      "cell_type": "markdown",
      "metadata": {
        "id": "view-in-github",
        "colab_type": "text"
      },
      "source": [
        "<a href=\"https://colab.research.google.com/github/Iqbal-127/Pemograman-Dasar/blob/main/Tugas_pertemuan_2.ipynb\" target=\"_parent\"><img src=\"https://colab.research.google.com/assets/colab-badge.svg\" alt=\"Open In Colab\"/></a>"
      ]
    },
    {
      "cell_type": "code",
      "execution_count": null,
      "metadata": {
        "colab": {
          "base_uri": "https://localhost:8080/"
        },
        "id": "6p8166lROkxz",
        "outputId": "f3f00f30-b4bc-416d-acb3-31185e9e2139"
      },
      "outputs": [
        {
          "output_type": "stream",
          "name": "stdout",
          "text": [
            "<class 'str'>\n",
            "<class 'str'>\n",
            "<class 'int'>\n",
            "<class 'bool'>\n"
          ]
        }
      ],
      "source": [
        "FirstName = 'Muhammad'\n",
        "LastName = 'al iqbal'\n",
        "age = 20\n",
        "isMaried = False\n",
        "\n",
        "print(type(FirstName))\n",
        "print(type(LastName))\n",
        "print(type(age))\n",
        "print(type(isMaried))"
      ]
    },
    {
      "cell_type": "code",
      "source": [
        "data_diri = { 'FirstName': 'Iqbal', 'LastName': 'Muhammad al', 'age': 20, 'isMarried': False}\n",
        "\n",
        "print(type(data_diri))"
      ],
      "metadata": {
        "colab": {
          "base_uri": "https://localhost:8080/"
        },
        "id": "qi2eP7kWRnuT",
        "outputId": "26e67371-7201-4fc3-923b-bacffa93488b"
      },
      "execution_count": null,
      "outputs": [
        {
          "output_type": "stream",
          "name": "stdout",
          "text": [
            "<class 'dict'>\n"
          ]
        }
      ]
    },
    {
      "cell_type": "code",
      "source": [
        "Inspeksi = [\"pemahaman terhadap rencana dan desain\",\n",
        "            \"ketersediaan bahan dan peralatan\",\n",
        "            \"pengawas pekerjaan\",\n",
        "            \"kualitas konstruksi\",\n",
        "            \"keselamatan kerja\",\n",
        "            \"koordinasi dengan pemilik proyek\"]\n",
        "\n",
        "for i, item in enumerate(Inspeksi, start=1): print(f\"{i}. {item}\")\n"
      ],
      "metadata": {
        "colab": {
          "base_uri": "https://localhost:8080/"
        },
        "id": "pqe2AwuvTIrY",
        "outputId": "8d1254df-8e72-45bb-dd24-1d4a9582be58"
      },
      "execution_count": null,
      "outputs": [
        {
          "output_type": "stream",
          "name": "stdout",
          "text": [
            "1. pemahaman terhadap rencana dan desain\n",
            "2. ketersediaan bahan dan peralatan\n",
            "3. pengawas pekerjaan\n",
            "4. kualitas konstruksi\n",
            "5. keselamatan kerja\n",
            "6. koordinasi dengan pemilik proyek\n"
          ]
        }
      ]
    },
    {
      "cell_type": "code",
      "source": [
        "starTime = {\"HH\": 9, \"mm\": 23, \"ss\": 57}\n",
        "endTime = {\"HH\": 15, \"mm\": 25, \"ss\": 43}\n",
        "\n",
        "print(\"Waktu datang:\", starTime)\n",
        "print(\"Waktu pulang:\", endTime)"
      ],
      "metadata": {
        "colab": {
          "base_uri": "https://localhost:8080/"
        },
        "id": "sdCqMLuAcRJs",
        "outputId": "58cf078f-dafd-42a1-9718-2b7c743b3daa"
      },
      "execution_count": null,
      "outputs": [
        {
          "output_type": "stream",
          "name": "stdout",
          "text": [
            "Waktu datang: {'HH': 9, 'mm': 23, 'ss': 57}\n",
            "Waktu pulang: {'HH': 15, 'mm': 25, 'ss': 43}\n"
          ]
        }
      ]
    },
    {
      "cell_type": "code",
      "source": [
        "katalog_A = {\"Laptop\", \"Printer\", \"Mouse\", \"Keyboard\"}\n",
        "katalog_B = {\"Monitor\", \"Mouse\", \"Speaker\", \"Printer\"}\n",
        "produk_diskon = (\"Mouse\", \"Keyboard\", \"Speaker\")\n",
        "katalog_lengkap = katalog_A.union(katalog_B)\n",
        "produk_promo_aktif = katalog_lengkap.intersection(set(produk_diskon))\n",
        "\n",
        "print(\"Katalog Lengkap :\", katalog_lengkap)\n",
        "print(\"Produk Promo Aktif:\", produk_promo_aktif)"
      ],
      "metadata": {
        "colab": {
          "base_uri": "https://localhost:8080/"
        },
        "id": "BYG3BEz1dZw5",
        "outputId": "3e391d03-442b-4700-f877-ceed0410afc6"
      },
      "execution_count": null,
      "outputs": [
        {
          "output_type": "stream",
          "name": "stdout",
          "text": [
            "Katalog Lengkap : {'Printer', 'Laptop', 'Mouse', 'Monitor', 'Keyboard', 'Speaker'}\n",
            "Produk Promo Aktif: {'Mouse', 'Keyboard', 'Speaker'}\n"
          ]
        }
      ]
    }
  ]
}