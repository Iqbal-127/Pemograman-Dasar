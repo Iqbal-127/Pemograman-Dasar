{
  "nbformat": 4,
  "nbformat_minor": 0,
  "metadata": {
    "colab": {
      "provenance": [],
      "authorship_tag": "ABX9TyNaV0q+pmqnqdDRgtLnEDzr",
      "include_colab_link": true
    },
    "kernelspec": {
      "name": "python3",
      "display_name": "Python 3"
    },
    "language_info": {
      "name": "python"
    }
  },
  "cells": [
    {
      "cell_type": "markdown",
      "metadata": {
        "id": "view-in-github",
        "colab_type": "text"
      },
      "source": [
        "<a href=\"https://colab.research.google.com/github/Iqbal-127/Pemograman-Dasar/blob/main/Praktikum_5.ipynb\" target=\"_parent\"><img src=\"https://colab.research.google.com/assets/colab-badge.svg\" alt=\"Open In Colab\"/></a>"
      ]
    },
    {
      "cell_type": "code",
      "source": [
        "Mencetak Bilangan Ganjil dengan Fungsi Range"
      ],
      "metadata": {
        "id": "4Wl86eKHkzoA",
        "colab": {
          "base_uri": "https://localhost:8080/",
          "height": 106
        },
        "outputId": "eaaeef46-fc98-4279-bfea-bbc96d341be5"
      },
      "execution_count": 1,
      "outputs": [
        {
          "output_type": "error",
          "ename": "SyntaxError",
          "evalue": "invalid syntax (ipython-input-2817721446.py, line 1)",
          "traceback": [
            "\u001b[0;36m  File \u001b[0;32m\"/tmp/ipython-input-2817721446.py\"\u001b[0;36m, line \u001b[0;32m1\u001b[0m\n\u001b[0;31m    Mencetak Bilangan Ganjil dengan Fungsi Range\u001b[0m\n\u001b[0m             ^\u001b[0m\n\u001b[0;31mSyntaxError\u001b[0m\u001b[0;31m:\u001b[0m invalid syntax\n"
          ]
        }
      ]
    },
    {
      "cell_type": "code",
      "source": [
        "print(\"--- Soal 1 ---\")\n",
        "\n",
        "for angka in range(1, 10, 2):\n",
        "    print(angka)"
      ],
      "metadata": {
        "colab": {
          "base_uri": "https://localhost:8080/"
        },
        "id": "9jOTV2_Jd3Xg",
        "outputId": "5b4e8c3a-e669-4c6e-c99d-a2573312366d"
      },
      "execution_count": null,
      "outputs": [
        {
          "output_type": "stream",
          "name": "stdout",
          "text": [
            "--- Soal 1 ---\n",
            "1\n",
            "3\n",
            "5\n",
            "7\n",
            "9\n"
          ]
        }
      ]
    },
    {
      "cell_type": "code",
      "source": [
        "Pemberhentian Proses"
      ],
      "metadata": {
        "id": "j_4tYQ3Qk1v_"
      },
      "execution_count": null,
      "outputs": []
    },
    {
      "cell_type": "code",
      "source": [
        "print(\"--- Soal 2 ---\")\n",
        "kode_berhenti = \"4232401057\"\n",
        "input_pengguna = \"0 # Inisialisasi awal\"\n",
        "\n",
        "while input_pengguna != kode_berhenti:\n",
        "    input_pengguna = input(\"Masukkan angka/NIM (NIM untuk berhenti): \")\n",
        "\n",
        "\n",
        "    if not input_pengguna.isdigit():\n",
        "        print(\"Input tidak valid. Harap masukkan angka/NIM.\")\n",
        "        continue\n",
        "\n",
        "print(\"Perulangan telah dihentikan oleh sentinel (NIM).\")\n"
      ],
      "metadata": {
        "colab": {
          "base_uri": "https://localhost:8080/"
        },
        "id": "zpJCQs-jhls4",
        "outputId": "8a624b54-40a2-45cc-b8bd-956a9d8ee1aa"
      },
      "execution_count": null,
      "outputs": [
        {
          "output_type": "stream",
          "name": "stdout",
          "text": [
            "--- Soal 2 ---\n",
            "Masukkan angka/NIM (NIM untuk berhenti): 4232401057\n",
            "Perulangan telah dihentikan oleh sentinel (NIM).\n"
          ]
        }
      ]
    },
    {
      "cell_type": "code",
      "source": [
        "Menghitung Total Belanja dari Daftar"
      ],
      "metadata": {
        "id": "PZFJ4N2-k8Dv"
      },
      "execution_count": null,
      "outputs": []
    },
    {
      "cell_type": "code",
      "source": [
        "print(\"--- Soal 3 ---\")\n",
        "harga_barang = [15000, 25000, 10000, 5000, 3000, 16000, 6000, 12000, 11000, 20000 ]\n",
        "total_belanja = 0\n",
        "\n",
        "for harga in harga_barang:\n",
        "    total_belanja += harga\n",
        "\n",
        "print(\"Total biaya belanja adalah:\", total_belanja)"
      ],
      "metadata": {
        "colab": {
          "base_uri": "https://localhost:8080/"
        },
        "id": "IaWsPxD6ibQA",
        "outputId": "67272776-5991-4cd3-ae76-bcf09ef0853f"
      },
      "execution_count": null,
      "outputs": [
        {
          "output_type": "stream",
          "name": "stdout",
          "text": [
            "--- Soal 3 ---\n",
            "Total biaya belanja adalah: 123000\n"
          ]
        }
      ]
    },
    {
      "cell_type": "code",
      "source": [
        "Batasan Percobaan (Limitasi Iterasi)"
      ],
      "metadata": {
        "id": "2Q8T0qozkc8J"
      },
      "execution_count": null,
      "outputs": []
    },
    {
      "cell_type": "code",
      "source": [
        "import getpass\n",
        "\n",
        "print(\"--- Soal 4 (versi getpass) ---\")\n",
        "percobaan_maksimal = 3\n",
        "percobaan_saat_ini = 1\n",
        "password_benar = \"Elbaasatoruu14\"\n",
        "sukses = False\n",
        "\n",
        "while percobaan_saat_ini <= percobaan_maksimal:\n",
        "    try:\n",
        "        pwd = getpass.getpass(f\"Percobaan ke-{percobaan_saat_ini}. Masukkan password: \")\n",
        "    except Exception:\n",
        "\n",
        "        pwd = input(f\"Percobaan ke-{percobaan_saat_ini}. Masukkan password: \")\n",
        "\n",
        "    if pwd == password_benar:\n",
        "        sukses = True\n",
        "        break\n",
        "    else:\n",
        "        print(\"Password salah.\")\n",
        "        percobaan_saat_ini += 1\n",
        "\n",
        "if sukses:\n",
        "    print(\"Akses diterima.\")\n",
        "else:\n",
        "    print(\"Kesempatan habis.\")\n"
      ],
      "metadata": {
        "id": "MSXAC-OSqKE2",
        "colab": {
          "base_uri": "https://localhost:8080/"
        },
        "outputId": "789c4a16-c53a-4681-fa57-d24d91233ab1"
      },
      "execution_count": null,
      "outputs": [
        {
          "output_type": "stream",
          "name": "stdout",
          "text": [
            "--- Soal 4 (versi getpass) ---\n",
            "Percobaan ke-1. Masukkan password: ··········\n",
            "Password salah.\n",
            "Percobaan ke-2. Masukkan password: ··········\n",
            "Akses diterima.\n"
          ]
        }
      ]
    },
    {
      "cell_type": "code",
      "source": [
        " Mencetak Karakter dari Teks"
      ],
      "metadata": {
        "id": "L342iiPqrMFe"
      },
      "execution_count": null,
      "outputs": []
    },
    {
      "cell_type": "code",
      "source": [
        "print(\"--- Soal 5 ---\")\n",
        "nama_proyek = \"Politeknik Negeri Batam\"\n",
        "hasil_output = \"\"\n",
        "\n",
        "for karakter in nama_proyek:\n",
        "    if karakter != \" \":\n",
        "        hasil_output += karakter + \"-\"\n",
        "    else:\n",
        "        hasil_output += \" \"\n",
        "\n",
        "print(hasil_output)\n",
        "\n"
      ],
      "metadata": {
        "colab": {
          "base_uri": "https://localhost:8080/"
        },
        "id": "YUJYlNXQq4Um",
        "outputId": "179d84c2-2f25-406e-ba85-8f2944afe6b9"
      },
      "execution_count": null,
      "outputs": [
        {
          "output_type": "stream",
          "name": "stdout",
          "text": [
            "--- Soal 5 ---\n",
            "P-o-l-i-t-e-k-n-i-k- N-e-g-e-r-i- B-a-t-a-m-\n"
          ]
        }
      ]
    },
    {
      "cell_type": "code",
      "source": [
        "Iterasi Mundur"
      ],
      "metadata": {
        "id": "osv9X8w1rNmG"
      },
      "execution_count": null,
      "outputs": []
    },
    {
      "cell_type": "code",
      "source": [
        "print(\"--- Soal 6 ---\")\n",
        "\n",
        "for i in range(255, 0, -1):\n",
        "    print(f\"Hitung mundur: {i}\")\n"
      ],
      "metadata": {
        "colab": {
          "base_uri": "https://localhost:8080/"
        },
        "id": "_MeW4VsIrPUe",
        "outputId": "c7ea55e0-477b-4553-c3c7-37aaa211b0a3"
      },
      "execution_count": null,
      "outputs": [
        {
          "output_type": "stream",
          "name": "stdout",
          "text": [
            "--- Soal 6 ---\n",
            "Hitung mundur: 255\n",
            "Hitung mundur: 254\n",
            "Hitung mundur: 253\n",
            "Hitung mundur: 252\n",
            "Hitung mundur: 251\n",
            "Hitung mundur: 250\n",
            "Hitung mundur: 249\n",
            "Hitung mundur: 248\n",
            "Hitung mundur: 247\n",
            "Hitung mundur: 246\n",
            "Hitung mundur: 245\n",
            "Hitung mundur: 244\n",
            "Hitung mundur: 243\n",
            "Hitung mundur: 242\n",
            "Hitung mundur: 241\n",
            "Hitung mundur: 240\n",
            "Hitung mundur: 239\n",
            "Hitung mundur: 238\n",
            "Hitung mundur: 237\n",
            "Hitung mundur: 236\n",
            "Hitung mundur: 235\n",
            "Hitung mundur: 234\n",
            "Hitung mundur: 233\n",
            "Hitung mundur: 232\n",
            "Hitung mundur: 231\n",
            "Hitung mundur: 230\n",
            "Hitung mundur: 229\n",
            "Hitung mundur: 228\n",
            "Hitung mundur: 227\n",
            "Hitung mundur: 226\n",
            "Hitung mundur: 225\n",
            "Hitung mundur: 224\n",
            "Hitung mundur: 223\n",
            "Hitung mundur: 222\n",
            "Hitung mundur: 221\n",
            "Hitung mundur: 220\n",
            "Hitung mundur: 219\n",
            "Hitung mundur: 218\n",
            "Hitung mundur: 217\n",
            "Hitung mundur: 216\n",
            "Hitung mundur: 215\n",
            "Hitung mundur: 214\n",
            "Hitung mundur: 213\n",
            "Hitung mundur: 212\n",
            "Hitung mundur: 211\n",
            "Hitung mundur: 210\n",
            "Hitung mundur: 209\n",
            "Hitung mundur: 208\n",
            "Hitung mundur: 207\n",
            "Hitung mundur: 206\n",
            "Hitung mundur: 205\n",
            "Hitung mundur: 204\n",
            "Hitung mundur: 203\n",
            "Hitung mundur: 202\n",
            "Hitung mundur: 201\n",
            "Hitung mundur: 200\n",
            "Hitung mundur: 199\n",
            "Hitung mundur: 198\n",
            "Hitung mundur: 197\n",
            "Hitung mundur: 196\n",
            "Hitung mundur: 195\n",
            "Hitung mundur: 194\n",
            "Hitung mundur: 193\n",
            "Hitung mundur: 192\n",
            "Hitung mundur: 191\n",
            "Hitung mundur: 190\n",
            "Hitung mundur: 189\n",
            "Hitung mundur: 188\n",
            "Hitung mundur: 187\n",
            "Hitung mundur: 186\n",
            "Hitung mundur: 185\n",
            "Hitung mundur: 184\n",
            "Hitung mundur: 183\n",
            "Hitung mundur: 182\n",
            "Hitung mundur: 181\n",
            "Hitung mundur: 180\n",
            "Hitung mundur: 179\n",
            "Hitung mundur: 178\n",
            "Hitung mundur: 177\n",
            "Hitung mundur: 176\n",
            "Hitung mundur: 175\n",
            "Hitung mundur: 174\n",
            "Hitung mundur: 173\n",
            "Hitung mundur: 172\n",
            "Hitung mundur: 171\n",
            "Hitung mundur: 170\n",
            "Hitung mundur: 169\n",
            "Hitung mundur: 168\n",
            "Hitung mundur: 167\n",
            "Hitung mundur: 166\n",
            "Hitung mundur: 165\n",
            "Hitung mundur: 164\n",
            "Hitung mundur: 163\n",
            "Hitung mundur: 162\n",
            "Hitung mundur: 161\n",
            "Hitung mundur: 160\n",
            "Hitung mundur: 159\n",
            "Hitung mundur: 158\n",
            "Hitung mundur: 157\n",
            "Hitung mundur: 156\n",
            "Hitung mundur: 155\n",
            "Hitung mundur: 154\n",
            "Hitung mundur: 153\n",
            "Hitung mundur: 152\n",
            "Hitung mundur: 151\n",
            "Hitung mundur: 150\n",
            "Hitung mundur: 149\n",
            "Hitung mundur: 148\n",
            "Hitung mundur: 147\n",
            "Hitung mundur: 146\n",
            "Hitung mundur: 145\n",
            "Hitung mundur: 144\n",
            "Hitung mundur: 143\n",
            "Hitung mundur: 142\n",
            "Hitung mundur: 141\n",
            "Hitung mundur: 140\n",
            "Hitung mundur: 139\n",
            "Hitung mundur: 138\n",
            "Hitung mundur: 137\n",
            "Hitung mundur: 136\n",
            "Hitung mundur: 135\n",
            "Hitung mundur: 134\n",
            "Hitung mundur: 133\n",
            "Hitung mundur: 132\n",
            "Hitung mundur: 131\n",
            "Hitung mundur: 130\n",
            "Hitung mundur: 129\n",
            "Hitung mundur: 128\n",
            "Hitung mundur: 127\n",
            "Hitung mundur: 126\n",
            "Hitung mundur: 125\n",
            "Hitung mundur: 124\n",
            "Hitung mundur: 123\n",
            "Hitung mundur: 122\n",
            "Hitung mundur: 121\n",
            "Hitung mundur: 120\n",
            "Hitung mundur: 119\n",
            "Hitung mundur: 118\n",
            "Hitung mundur: 117\n",
            "Hitung mundur: 116\n",
            "Hitung mundur: 115\n",
            "Hitung mundur: 114\n",
            "Hitung mundur: 113\n",
            "Hitung mundur: 112\n",
            "Hitung mundur: 111\n",
            "Hitung mundur: 110\n",
            "Hitung mundur: 109\n",
            "Hitung mundur: 108\n",
            "Hitung mundur: 107\n",
            "Hitung mundur: 106\n",
            "Hitung mundur: 105\n",
            "Hitung mundur: 104\n",
            "Hitung mundur: 103\n",
            "Hitung mundur: 102\n",
            "Hitung mundur: 101\n",
            "Hitung mundur: 100\n",
            "Hitung mundur: 99\n",
            "Hitung mundur: 98\n",
            "Hitung mundur: 97\n",
            "Hitung mundur: 96\n",
            "Hitung mundur: 95\n",
            "Hitung mundur: 94\n",
            "Hitung mundur: 93\n",
            "Hitung mundur: 92\n",
            "Hitung mundur: 91\n",
            "Hitung mundur: 90\n",
            "Hitung mundur: 89\n",
            "Hitung mundur: 88\n",
            "Hitung mundur: 87\n",
            "Hitung mundur: 86\n",
            "Hitung mundur: 85\n",
            "Hitung mundur: 84\n",
            "Hitung mundur: 83\n",
            "Hitung mundur: 82\n",
            "Hitung mundur: 81\n",
            "Hitung mundur: 80\n",
            "Hitung mundur: 79\n",
            "Hitung mundur: 78\n",
            "Hitung mundur: 77\n",
            "Hitung mundur: 76\n",
            "Hitung mundur: 75\n",
            "Hitung mundur: 74\n",
            "Hitung mundur: 73\n",
            "Hitung mundur: 72\n",
            "Hitung mundur: 71\n",
            "Hitung mundur: 70\n",
            "Hitung mundur: 69\n",
            "Hitung mundur: 68\n",
            "Hitung mundur: 67\n",
            "Hitung mundur: 66\n",
            "Hitung mundur: 65\n",
            "Hitung mundur: 64\n",
            "Hitung mundur: 63\n",
            "Hitung mundur: 62\n",
            "Hitung mundur: 61\n",
            "Hitung mundur: 60\n",
            "Hitung mundur: 59\n",
            "Hitung mundur: 58\n",
            "Hitung mundur: 57\n",
            "Hitung mundur: 56\n",
            "Hitung mundur: 55\n",
            "Hitung mundur: 54\n",
            "Hitung mundur: 53\n",
            "Hitung mundur: 52\n",
            "Hitung mundur: 51\n",
            "Hitung mundur: 50\n",
            "Hitung mundur: 49\n",
            "Hitung mundur: 48\n",
            "Hitung mundur: 47\n",
            "Hitung mundur: 46\n",
            "Hitung mundur: 45\n",
            "Hitung mundur: 44\n",
            "Hitung mundur: 43\n",
            "Hitung mundur: 42\n",
            "Hitung mundur: 41\n",
            "Hitung mundur: 40\n",
            "Hitung mundur: 39\n",
            "Hitung mundur: 38\n",
            "Hitung mundur: 37\n",
            "Hitung mundur: 36\n",
            "Hitung mundur: 35\n",
            "Hitung mundur: 34\n",
            "Hitung mundur: 33\n",
            "Hitung mundur: 32\n",
            "Hitung mundur: 31\n",
            "Hitung mundur: 30\n",
            "Hitung mundur: 29\n",
            "Hitung mundur: 28\n",
            "Hitung mundur: 27\n",
            "Hitung mundur: 26\n",
            "Hitung mundur: 25\n",
            "Hitung mundur: 24\n",
            "Hitung mundur: 23\n",
            "Hitung mundur: 22\n",
            "Hitung mundur: 21\n",
            "Hitung mundur: 20\n",
            "Hitung mundur: 19\n",
            "Hitung mundur: 18\n",
            "Hitung mundur: 17\n",
            "Hitung mundur: 16\n",
            "Hitung mundur: 15\n",
            "Hitung mundur: 14\n",
            "Hitung mundur: 13\n",
            "Hitung mundur: 12\n",
            "Hitung mundur: 11\n",
            "Hitung mundur: 10\n",
            "Hitung mundur: 9\n",
            "Hitung mundur: 8\n",
            "Hitung mundur: 7\n",
            "Hitung mundur: 6\n",
            "Hitung mundur: 5\n",
            "Hitung mundur: 4\n",
            "Hitung mundur: 3\n",
            "Hitung mundur: 2\n",
            "Hitung mundur: 1\n"
          ]
        }
      ]
    },
    {
      "cell_type": "code",
      "source": [
        "Mengakses Elemen dan Indeks Secara Bersamaan"
      ],
      "metadata": {
        "id": "qZFsER4tsJ--"
      },
      "execution_count": null,
      "outputs": []
    },
    {
      "cell_type": "code",
      "source": [
        "print(\"--- Soal 7 ---\")\n",
        "kelurahan = [\"Baloi Permai\", \"Batu Selicin\", \"Tanjung Uma\", \"Belian\", \"Sei Panas\"]\n",
        "\n",
        "for i, nama in enumerate(kelurahan):\n",
        "    print(f\"Kelurahan ke-{i + 1}: {nama}\")"
      ],
      "metadata": {
        "colab": {
          "base_uri": "https://localhost:8080/"
        },
        "id": "eexoGtFitfjO",
        "outputId": "d94fe1de-d2f0-4fc3-8f15-ac0566ca9ff2"
      },
      "execution_count": null,
      "outputs": [
        {
          "output_type": "stream",
          "name": "stdout",
          "text": [
            "--- Soal 7 ---\n",
            "Kelurahan ke-1: Baloi Permai\n",
            "Kelurahan ke-2: Batu Selicin\n",
            "Kelurahan ke-3: Tanjung Uma\n",
            "Kelurahan ke-4: Belian\n",
            "Kelurahan ke-5: Sei Panas\n"
          ]
        }
      ]
    },
    {
      "cell_type": "code",
      "source": [
        "Kontrol Perulangan dengan break"
      ],
      "metadata": {
        "id": "3DdGTRk2uzvF"
      },
      "execution_count": null,
      "outputs": []
    },
    {
      "cell_type": "code",
      "source": [
        "print(\"--- Soal 8 ---\")\n",
        "data_angka = [10, 20, 30, 0, 50, -1, 60]\n",
        "\n",
        "for angka in data_angka:\n",
        "    if angka == -1 or angka == 0:\n",
        "        break\n",
        "    print(angka)\n",
        "\n",
        "print(\"Program berhenti karena angka 0 atau -1 ditemukan.\")\n"
      ],
      "metadata": {
        "colab": {
          "base_uri": "https://localhost:8080/"
        },
        "id": "w4SMPZJhu0al",
        "outputId": "f7b585bf-a927-417c-9ad6-3e89d657bca8"
      },
      "execution_count": null,
      "outputs": [
        {
          "output_type": "stream",
          "name": "stdout",
          "text": [
            "--- Soal 8 ---\n",
            "10\n",
            "20\n",
            "30\n",
            "Program berhenti karena angka 0 atau -1 ditemukan.\n"
          ]
        }
      ]
    },
    {
      "cell_type": "code",
      "source": [
        "Penambahan Berkelanjutan dengan Batas"
      ],
      "metadata": {
        "id": "VN4KgDH5vLeu"
      },
      "execution_count": null,
      "outputs": []
    },
    {
      "cell_type": "code",
      "source": [
        "print(\"--- Soal 9 ---\")\n",
        "total = 0\n",
        "bilangan = 1\n",
        "batas = 20\n",
        "\n",
        "while total <= batas:\n",
        "    total += bilangan\n",
        "    bilangan += 1\n",
        "\n",
        "print(\"Total terakhir:\", total)"
      ],
      "metadata": {
        "colab": {
          "base_uri": "https://localhost:8080/"
        },
        "id": "jCrHXT7MvOq1",
        "outputId": "6a2f627a-5e7e-42c5-b82a-18da460f0987"
      },
      "execution_count": null,
      "outputs": [
        {
          "output_type": "stream",
          "name": "stdout",
          "text": [
            "--- Soal 9 ---\n",
            "Total terakhir: 21\n"
          ]
        }
      ]
    },
    {
      "cell_type": "code",
      "source": [
        "Perulangan Bersarang (Nested Loop) Sederhana"
      ],
      "metadata": {
        "id": "EoTkfivivu-1"
      },
      "execution_count": null,
      "outputs": []
    },
    {
      "cell_type": "code",
      "source": [
        "print(\"--- Soal 10 ---\")\n",
        "jumlah_baris = 3\n",
        "\n",
        "for baris in range(jumlah_baris):\n",
        "    baris_teks = \"\"\n",
        "    for i in range(1):\n",
        "        baris_teks += \"Python \"\n",
        "    print(baris_teks)\n"
      ],
      "metadata": {
        "colab": {
          "base_uri": "https://localhost:8080/"
        },
        "id": "VBy7Hu3dxutO",
        "outputId": "60bced74-eb4a-4e1f-83eb-00bac6c2b1a8"
      },
      "execution_count": null,
      "outputs": [
        {
          "output_type": "stream",
          "name": "stdout",
          "text": [
            "--- Soal 10 ---\n",
            "Python \n",
            "Python \n",
            "Python \n"
          ]
        }
      ]
    }
  ]
}