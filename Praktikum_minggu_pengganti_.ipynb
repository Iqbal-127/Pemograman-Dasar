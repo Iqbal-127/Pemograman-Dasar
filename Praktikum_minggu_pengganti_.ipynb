{
  "nbformat": 4,
  "nbformat_minor": 0,
  "metadata": {
    "colab": {
      "provenance": [],
      "include_colab_link": true
    },
    "kernelspec": {
      "name": "python3",
      "display_name": "Python 3"
    },
    "language_info": {
      "name": "python"
    }
  },
  "cells": [
    {
      "cell_type": "markdown",
      "metadata": {
        "id": "view-in-github",
        "colab_type": "text"
      },
      "source": [
        "<a href=\"https://colab.research.google.com/github/Iqbal-127/Pemograman-Dasar/blob/main/Praktikum_minggu_pengganti_.ipynb\" target=\"_parent\"><img src=\"https://colab.research.google.com/assets/colab-badge.svg\" alt=\"Open In Colab\"/></a>"
      ]
    },
    {
      "cell_type": "code",
      "execution_count": null,
      "metadata": {
        "colab": {
          "base_uri": "https://localhost:8080/"
        },
        "id": "IM0S_C8wR2nV",
        "outputId": "b4b3790a-a8dd-4d42-a015-3f3de559a748"
      },
      "outputs": [
        {
          "output_type": "stream",
          "name": "stdout",
          "text": [
            "Halo Iqbal!\n",
            "Sistem siap. Selamat datang kembali di sesi praktikum.\n",
            "BIODATA\n",
            "Nama        : Muhammad al iqbal\n",
            "NIM         : 4232401057\n",
            "Program     : RPE\n",
            "Universitas : Politeknik Negeri Batam\n"
          ]
        }
      ],
      "source": [
        "# SOAL 1:\n",
        "def sapa_praktikan(nama):\n",
        "    \"Mencetak pesan sambutan dasar.\"\n",
        "    print(f\"Halo {nama}!\")\n",
        "    print(\"Sistem siap. Selamat datang kembali di sesi praktikum.\")\n",
        "\n",
        "sapa_praktikan(\"Iqbal\")\n",
        "\n",
        "def Biodata(nama, nim, prodi, universitas):\n",
        "    \"\"\"Menampilkan biodata praktikan.\"\"\"\n",
        "    print(\"BIODATA\")\n",
        "    print(f\"Nama        : {nama}\")\n",
        "    print(f\"NIM         : {nim}\")\n",
        "    print(f\"Program     : {prodi}\")\n",
        "    print(f\"Universitas : {universitas}\")\n",
        "\n",
        "Biodata(\"Muhammad al iqbal\", \"4232401057\", \"RPE\", \"Politeknik Negeri Batam\")\n"
      ]
    },
    {
      "cell_type": "code",
      "source": [
        "# SOAL 2:\n",
        "def hitung_volume_kubus(sisi):\n",
        "    \"Menghitung volume kubus dari panjang sisinya.\"\n",
        "    return sisi ** 3\n",
        "\n",
        "# Pemanggilan\n",
        "panjang_sisi = 5\n",
        "print(f\"Volume kubus dengan sisi {panjang_sisi} adalah: {hitung_volume_kubus(panjang_sisi)}\")\n",
        "\n",
        "\n",
        "def hitung_volume_balok(panjang, lebar, tinggi):\n",
        "    \"Menghitung volume balok dari panjang, lebar, dan tinggi.\"\n",
        "    return panjang * lebar * tinggi\n",
        "\n",
        "p = 5\n",
        "l = 6\n",
        "t = 7\n",
        "print(f\"Volume balok dengan ukuran {p} x {l} x {t} adalah: {hitung_volume_balok(p, l, t)}\")\n"
      ],
      "metadata": {
        "colab": {
          "base_uri": "https://localhost:8080/"
        },
        "id": "k3C5mpPMZTCB",
        "outputId": "f182492a-5c74-4177-9ddb-5e938d04a8da"
      },
      "execution_count": null,
      "outputs": [
        {
          "output_type": "stream",
          "name": "stdout",
          "text": [
            "Volume kubus dengan sisi 5 adalah: 125\n",
            "Volume balok dengan ukuran 5 x 6 x 7 adalah: 210\n"
          ]
        }
      ]
    },
    {
      "cell_type": "code",
      "source": [
        "# SOAL 3:\n",
        "def hitung_rata_rata(data_nilai):\n",
        "    total = 0\n",
        "    jumlah_valid = 0\n",
        "\n",
        "    # Perulangan untuk menjumlahkan nilai\n",
        "    for nilai in data_nilai:\n",
        "        # Pengecekan nilai valid (0 - 100)\n",
        "        if 0 <= nilai <= 100:\n",
        "            total += nilai\n",
        "            jumlah_valid += 1\n",
        "        else:\n",
        "            print(f\" Nilai {nilai} tidak valid (tidak terdata).\")\n",
        "\n",
        "     # Pembagian untuk rata-rata\n",
        "\n",
        "    if jumlah_valid > 0:\n",
        "     return total / jumlah_valid\n",
        "    return\n",
        "\n",
        "\n",
        "nilai_praktikan = [86, 105, -1, 78, 90]\n",
        "print(f\"Nilai rata-rata kelas adalah: {hitung_rata_rata(nilai_praktikan):.2f}\")\n"
      ],
      "metadata": {
        "colab": {
          "base_uri": "https://localhost:8080/"
        },
        "id": "0wRbwQiXcYm2",
        "outputId": "0d496cf6-6ed3-4a47-8c6f-f457bd796562"
      },
      "execution_count": null,
      "outputs": [
        {
          "output_type": "stream",
          "name": "stdout",
          "text": [
            " Nilai 105 tidak valid (tidak terdata).\n",
            " Nilai -1 tidak valid (tidak terdata).\n",
            "Nilai rata-rata kelas adalah: 84.67\n"
          ]
        }
      ]
    },
    {
      "cell_type": "code",
      "source": [
        "# SOAL 4:\n",
        "def tentukan_predikat(skor):\n",
        "    \"\"\"Menentukan predikat (A, B, C, D, E) berdasarkan skor dengan validasi tipe data.\"\"\"\n",
        "\n",
        "    if not isinstance(skor, (int, float)):\n",
        "        return \"Error: Input harus berupa angka (int atau float).\"\n",
        "\n",
        "    if skor < 0 or skor > 100:\n",
        "        return \"Error: Nilai harus berada antara 0 hingga 100.\"\n",
        "\n",
        "    # Penentuan predikat\n",
        "    if skor >= 85:\n",
        "        return \"A\"\n",
        "    elif skor >= 70:\n",
        "        return \"B\"\n",
        "    elif skor >= 60:\n",
        "        return \"C\"\n",
        "    elif skor >= 50:\n",
        "        return \"D\"\n",
        "    else:\n",
        "        return \"E\"\n",
        "\n",
        "print(f\"Skor 95 mendapat predikat: {tentukan_predikat(95)}\")\n",
        "print(f\"Skor 71 mendapat predikat: {tentukan_predikat(71)}\")\n",
        "print(f\"Skor 60 mendapat predikat: {tentukan_predikat(60)}\")\n",
        "print(f\"Skor 55 mendapat predikat: {tentukan_predikat(55)}\")\n",
        "print(f\"Skor 35 mendapat predikat: {tentukan_predikat(35)}\")\n",
        "\n"
      ],
      "metadata": {
        "colab": {
          "base_uri": "https://localhost:8080/"
        },
        "id": "JPk4d5svdsk5",
        "outputId": "f21f3822-14d5-4b19-87d8-f4b59e330987"
      },
      "execution_count": null,
      "outputs": [
        {
          "output_type": "stream",
          "name": "stdout",
          "text": [
            "Skor 95 mendapat predikat: A\n",
            "Skor 71 mendapat predikat: B\n",
            "Skor 60 mendapat predikat: C\n",
            "Skor 55 mendapat predikat: D\n",
            "Skor 35 mendapat predikat: E\n"
          ]
        }
      ]
    },
    {
      "cell_type": "code",
      "source": [
        "# SOAL 5:\n",
        "def hitung_faktorial(n):\n",
        "    \"\"\"Menghitung faktorial dari bilangan positif n.\"\"\"\n",
        "\n",
        "\n",
        "    if n < 0:\n",
        "        return \"Error: Faktorial tidak terdefinisi untuk bilangan negatif.\"\n",
        "    elif n == 0:\n",
        "        return 1\n",
        "\n",
        "    hasil = 1\n",
        "\n",
        "    # kode berjalan selama n lebih besar dari 1\n",
        "    while n > 1:\n",
        "        hasil *= n\n",
        "        n -= 1  # Kurangi n\n",
        "\n",
        "    return hasil\n",
        "\n",
        "\n",
        "# Pemanggilan:\n",
        "bilangan_n = 5\n",
        "\n",
        "\n",
        "print(f\"Faktorial dari {bilangan_n} adalah: {hitung_faktorial(bilangan_n)}\")\n"
      ],
      "metadata": {
        "colab": {
          "base_uri": "https://localhost:8080/"
        },
        "id": "ecVhs2Bshmrc",
        "outputId": "a9ffe6d6-e2da-45fc-fb70-fdcbcd07218a"
      },
      "execution_count": null,
      "outputs": [
        {
          "output_type": "stream",
          "name": "stdout",
          "text": [
            "Faktorial dari 5 adalah: 120\n"
          ]
        }
      ]
    },
    {
      "cell_type": "code",
      "source": [
        "# SOAL 6:\n",
        "def analisis_suhu(data_suhu):\n",
        "    \"\"\"Menghitung jumlah hari Panas dan Dingin dari data_suhu.\"\"\"\n",
        "    panas_count = 0\n",
        "    dingin_count = 0\n",
        "\n",
        "    for suhu in data_suhu:\n",
        "        if suhu >= 35:\n",
        "            panas_count += 1\n",
        "        elif suhu <= 15:\n",
        "            dingin_count += 1\n",
        "\n",
        "    return panas_count, dingin_count\n",
        "\n",
        "# Pemanggilan:\n",
        "suhu_mingguan = [40, 15, 20, 25, 10, 19, 22,36,]\n",
        "jumlah_panas, jumlah_dingin = analisis_suhu(suhu_mingguan)\n",
        "print(f\"Jumlah hari Panas (>=35°C): {jumlah_panas}\")\n",
        "print(f\"Jumlah hari Dingin (<=15°C): {jumlah_dingin}\")\n"
      ],
      "metadata": {
        "colab": {
          "base_uri": "https://localhost:8080/"
        },
        "id": "ZWDFyP_xkdjG",
        "outputId": "1d27c77e-4d7f-4264-e317-331eac03e503"
      },
      "execution_count": null,
      "outputs": [
        {
          "output_type": "stream",
          "name": "stdout",
          "text": [
            "Jumlah hari Panas (>=35°C): 2\n",
            "Jumlah hari Dingin (<=15°C): 2\n"
          ]
        }
      ]
    }
  ]
}